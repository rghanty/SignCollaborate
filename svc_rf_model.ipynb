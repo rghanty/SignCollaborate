{
 "cells": [
  {
   "cell_type": "markdown",
   "id": "c8b763da-c86f-4b87-8a42-572826a8802e",
   "metadata": {},
   "source": [
    "## Import libraries"
   ]
  },
  {
   "cell_type": "code",
   "execution_count": 1,
   "id": "42a1c7ae-7da9-4b9f-9637-7fafc1aa8221",
   "metadata": {},
   "outputs": [],
   "source": [
    "# non ml imports\n",
    "import os\n",
    "import numpy as np\n",
    "import pandas as pd\n",
    "import matplotlib.pyplot as plt\n",
    "from tqdm import tqdm\n",
    "import cv2 \n",
    "import joblib\n",
    "import random as rd\n",
    "# ml imports\n",
    "from sklearn.ensemble import RandomForestClassifier\n",
    "from sklearn.svm import SVC\n",
    "from sklearn.neighbors import KNeighborsClassifier\n",
    "from sklearn.metrics import (\n",
    "    accuracy_score,\n",
    "    f1_score,\n",
    "    make_scorer,\n",
    "    precision_score,\n",
    "    recall_score,\n",
    ")\n",
    "from sklearn.model_selection import (\n",
    "    GridSearchCV,\n",
    "    RandomizedSearchCV,\n",
    "    cross_val_score,\n",
    "    cross_validate,\n",
    "    train_test_split,\n",
    ")\n",
    "from sklearn.model_selection import GridSearchCV\n",
    "from sklearn.model_selection import RandomizedSearchCV\n",
    "from scipy.stats import (loguniform, randint)"
   ]
  },
  {
   "cell_type": "markdown",
   "id": "923ff73d-8865-415a-9a7e-fe553be8db77",
   "metadata": {},
   "source": [
    "## Creating $X$ and $y$ from image dataset ***(ctn from here)***"
   ]
  },
  {
   "cell_type": "code",
   "execution_count": null,
   "id": "a6f821c9-4c95-4cbe-a40e-fb58969e132f",
   "metadata": {
    "tags": []
   },
   "outputs": [],
   "source": [
    "root = \"asl_alphabet_train\" # main training folder\n",
    "alphabets = os.listdir(\"asl_alphabet_train\") # subfolder for each alphabets\n",
    "k = len(alphabets) # |multiclasses|\n",
    "\n",
    "image_df = []\n",
    "sample_size = 50 # small sample size \n",
    "for alph in alphabets:\n",
    "    images = os.listdir(root+\"\\\\\"+alph) # name of the images\n",
    "    images = rd.sample(os.listdir(root+\"\\\\\"+alph), sample_size) # name of the images\n",
    "    for i in images:\n",
    "        if '.jpg' not in i: continue # skip non image files\n",
    "        # print(root + \"\\\\\" + alph + \"\\\\\" + i)\n",
    "        img = cv2.imread(root + \"\\\\\" + alph + \"\\\\\" + i) # load each image as (200,200,3) cube\n",
    "        img = img.reshape(120000)\n",
    "        img = img/255 # normalise the data\n",
    "        image_df.append(img)"
   ]
  },
  {
   "cell_type": "markdown",
   "id": "03a9e5bf-31a5-4776-87b9-8cc91592c1a4",
   "metadata": {},
   "source": [
    "Cannot increase the sample size more with my current laptop / computational power and space available to me, especially without using any convolutional and pooling layer"
   ]
  },
  {
   "cell_type": "code",
   "execution_count": 19,
   "id": "141f0064-ec7c-4866-bdf2-40360d391bbc",
   "metadata": {
    "tags": []
   },
   "outputs": [],
   "source": [
    "# convert it to a matrix\n",
    "X = np.array(image_df)\n",
    "n, d = X.shape"
   ]
  },
  {
   "cell_type": "code",
   "execution_count": 20,
   "id": "40f49215-dd13-495d-b6d3-9b387f1f9e64",
   "metadata": {
    "tags": []
   },
   "outputs": [
    {
     "name": "stdout",
     "output_type": "stream",
     "text": [
      "[0. 0. 0. 0. 0. 0. 0. 0. 0. 0. 0.] [28. 28. 28. 28. 28. 28. 28. 28. 28. 28. 28.]\n"
     ]
    }
   ],
   "source": [
    "y = np.zeros(n)\n",
    "correct_val = 0\n",
    "for ind in range(0, n, n//k):\n",
    "    y[ind: ind+n//k] = correct_val\n",
    "    correct_val +=1 \n",
    "print(y[:11], y[-11:]) # mutliclass"
   ]
  },
  {
   "cell_type": "markdown",
   "id": "5839d3e9-17c2-44e6-bb1f-2610247ae242",
   "metadata": {},
   "source": [
    "# Performing cross validation on $k$-NN, $SVC$ and *Random Forest*"
   ]
  },
  {
   "cell_type": "code",
   "execution_count": 5,
   "id": "d7005878-4f6f-494f-ae81-b9e4c836ca20",
   "metadata": {},
   "outputs": [],
   "source": [
    "# splitting the data\n",
    "X_train, X_test, y_train, y_test = train_test_split(X, y, random_state=42, test_size=0.1)"
   ]
  },
  {
   "cell_type": "markdown",
   "id": "3cb63843-ea29-4b16-926d-1683265c51d1",
   "metadata": {},
   "source": [
    "Will try K-NN too however, it will most likely not perform the best with such high dimensional data"
   ]
  },
  {
   "cell_type": "code",
   "execution_count": 23,
   "id": "b68aec10-145e-42c9-88b6-1aa66dce5af8",
   "metadata": {
    "tags": []
   },
   "outputs": [
    {
     "name": "stdout",
     "output_type": "stream",
     "text": [
      "best for KNN: {'n_neighbors': 3, 'weights': 'distance'} & best score is  0.26415094339622647\n"
     ]
    }
   ],
   "source": [
    "from sklearn.neighbors import KNeighborsClassifier\n",
    "knn_grid = {\n",
    "    'n_neighbors': [3, 5, 7, 10, 15, 20],\n",
    "    'weights': ['uniform', 'distance'],\n",
    "}\n",
    "\n",
    "grid_knn = GridSearchCV(KNeighborsClassifier(), knn_grid, cv=5)\n",
    "grid_knn.fit(X_train, y_train)\n",
    "print('best for KNN:', grid_knn.best_params_, \"& best score is \", grid_knn.best_score_)"
   ]
  },
  {
   "cell_type": "code",
   "execution_count": 21,
   "id": "bc05470c-814e-4378-afbc-f25d1006b0de",
   "metadata": {},
   "outputs": [
    {
     "name": "stdout",
     "output_type": "stream",
     "text": [
      "best for SVC: {'C': 0.31489116479568624, 'gamma': 861} & best score is  0.030696661828737305\n"
     ]
    }
   ],
   "source": [
    "svc_grid = {\n",
    "    'C': loguniform(1e-2, 1e2), \n",
    "    'gamma': randint(1, 1000),\n",
    "}\n",
    "\n",
    "random_svc = RandomizedSearchCV(SVC(kernel = \"rbf\"), svc_grid, cv=5, scoring='accuracy', n_iter=10, random_state=42, n_jobs=-1)\n",
    "random_svc.fit(X_train, y_train)\n",
    "print('best for SVC:', random_svc.best_params_, \"& best score is \", random_svc.best_score_)"
   ]
  },
  {
   "cell_type": "code",
   "execution_count": 22,
   "id": "8bb13685-2229-4f9e-9f91-5cd46169e850",
   "metadata": {},
   "outputs": [
    {
     "name": "stdout",
     "output_type": "stream",
     "text": [
      "best for RandomForest: {'max_depth': 20, 'n_estimators': 100} & best score is  0.3560957910014514\n"
     ]
    }
   ],
   "source": [
    "rf_grid = {\n",
    "    'n_estimators': [10, 50, 100, 150, 200],\n",
    "    'max_depth': [5, 10, 20, 30, None],\n",
    "}\n",
    "grid_rf = GridSearchCV(RandomForestClassifier(random_state=123), rf_grid, cv=5, n_jobs=-1)\n",
    "grid_rf.fit(X_train, y_train)\n",
    "print('best for RandomForest:', grid_rf.best_params_, \"& best score is \", grid_rf.best_score_)"
   ]
  },
  {
   "cell_type": "markdown",
   "id": "dbe15725-94b0-4902-b5ef-86804d2e672d",
   "metadata": {},
   "source": [
    "# Training the model with best score"
   ]
  },
  {
   "cell_type": "code",
   "execution_count": 10,
   "id": "e559bdc9-1752-4047-ad3a-2d317f7efee4",
   "metadata": {
    "tags": []
   },
   "outputs": [
    {
     "data": {
      "text/html": [
       "<style>#sk-container-id-1 {color: black;}#sk-container-id-1 pre{padding: 0;}#sk-container-id-1 div.sk-toggleable {background-color: white;}#sk-container-id-1 label.sk-toggleable__label {cursor: pointer;display: block;width: 100%;margin-bottom: 0;padding: 0.3em;box-sizing: border-box;text-align: center;}#sk-container-id-1 label.sk-toggleable__label-arrow:before {content: \"▸\";float: left;margin-right: 0.25em;color: #696969;}#sk-container-id-1 label.sk-toggleable__label-arrow:hover:before {color: black;}#sk-container-id-1 div.sk-estimator:hover label.sk-toggleable__label-arrow:before {color: black;}#sk-container-id-1 div.sk-toggleable__content {max-height: 0;max-width: 0;overflow: hidden;text-align: left;background-color: #f0f8ff;}#sk-container-id-1 div.sk-toggleable__content pre {margin: 0.2em;color: black;border-radius: 0.25em;background-color: #f0f8ff;}#sk-container-id-1 input.sk-toggleable__control:checked~div.sk-toggleable__content {max-height: 200px;max-width: 100%;overflow: auto;}#sk-container-id-1 input.sk-toggleable__control:checked~label.sk-toggleable__label-arrow:before {content: \"▾\";}#sk-container-id-1 div.sk-estimator input.sk-toggleable__control:checked~label.sk-toggleable__label {background-color: #d4ebff;}#sk-container-id-1 div.sk-label input.sk-toggleable__control:checked~label.sk-toggleable__label {background-color: #d4ebff;}#sk-container-id-1 input.sk-hidden--visually {border: 0;clip: rect(1px 1px 1px 1px);clip: rect(1px, 1px, 1px, 1px);height: 1px;margin: -1px;overflow: hidden;padding: 0;position: absolute;width: 1px;}#sk-container-id-1 div.sk-estimator {font-family: monospace;background-color: #f0f8ff;border: 1px dotted black;border-radius: 0.25em;box-sizing: border-box;margin-bottom: 0.5em;}#sk-container-id-1 div.sk-estimator:hover {background-color: #d4ebff;}#sk-container-id-1 div.sk-parallel-item::after {content: \"\";width: 100%;border-bottom: 1px solid gray;flex-grow: 1;}#sk-container-id-1 div.sk-label:hover label.sk-toggleable__label {background-color: #d4ebff;}#sk-container-id-1 div.sk-serial::before {content: \"\";position: absolute;border-left: 1px solid gray;box-sizing: border-box;top: 0;bottom: 0;left: 50%;z-index: 0;}#sk-container-id-1 div.sk-serial {display: flex;flex-direction: column;align-items: center;background-color: white;padding-right: 0.2em;padding-left: 0.2em;position: relative;}#sk-container-id-1 div.sk-item {position: relative;z-index: 1;}#sk-container-id-1 div.sk-parallel {display: flex;align-items: stretch;justify-content: center;background-color: white;position: relative;}#sk-container-id-1 div.sk-item::before, #sk-container-id-1 div.sk-parallel-item::before {content: \"\";position: absolute;border-left: 1px solid gray;box-sizing: border-box;top: 0;bottom: 0;left: 50%;z-index: -1;}#sk-container-id-1 div.sk-parallel-item {display: flex;flex-direction: column;z-index: 1;position: relative;background-color: white;}#sk-container-id-1 div.sk-parallel-item:first-child::after {align-self: flex-end;width: 50%;}#sk-container-id-1 div.sk-parallel-item:last-child::after {align-self: flex-start;width: 50%;}#sk-container-id-1 div.sk-parallel-item:only-child::after {width: 0;}#sk-container-id-1 div.sk-dashed-wrapped {border: 1px dashed gray;margin: 0 0.4em 0.5em 0.4em;box-sizing: border-box;padding-bottom: 0.4em;background-color: white;}#sk-container-id-1 div.sk-label label {font-family: monospace;font-weight: bold;display: inline-block;line-height: 1.2em;}#sk-container-id-1 div.sk-label-container {text-align: center;}#sk-container-id-1 div.sk-container {/* jupyter's `normalize.less` sets `[hidden] { display: none; }` but bootstrap.min.css set `[hidden] { display: none !important; }` so we also need the `!important` here to be able to override the default hidden behavior on the sphinx rendered scikit-learn.org. See: https://github.com/scikit-learn/scikit-learn/issues/21755 */display: inline-block !important;position: relative;}#sk-container-id-1 div.sk-text-repr-fallback {display: none;}</style><div id=\"sk-container-id-1\" class=\"sk-top-container\"><div class=\"sk-text-repr-fallback\"><pre>RandomForestClassifier(max_depth=20)</pre><b>In a Jupyter environment, please rerun this cell to show the HTML representation or trust the notebook. <br />On GitHub, the HTML representation is unable to render, please try loading this page with nbviewer.org.</b></div><div class=\"sk-container\" hidden><div class=\"sk-item\"><div class=\"sk-estimator sk-toggleable\"><input class=\"sk-toggleable__control sk-hidden--visually\" id=\"sk-estimator-id-1\" type=\"checkbox\" checked><label for=\"sk-estimator-id-1\" class=\"sk-toggleable__label sk-toggleable__label-arrow\">RandomForestClassifier</label><div class=\"sk-toggleable__content\"><pre>RandomForestClassifier(max_depth=20)</pre></div></div></div></div></div>"
      ],
      "text/plain": [
       "RandomForestClassifier(max_depth=20)"
      ]
     },
     "execution_count": 10,
     "metadata": {},
     "output_type": "execute_result"
    }
   ],
   "source": [
    "final_model = RandomForestClassifier(max_depth = 20, n_estimators = 100) \n",
    "final_model.fit(X_train, y_train)"
   ]
  },
  {
   "cell_type": "markdown",
   "id": "ff8a53ad-c59b-443e-8771-054f9c987281",
   "metadata": {
    "tags": []
   },
   "source": [
    "# Testing the model"
   ]
  },
  {
   "cell_type": "markdown",
   "id": "40a97fb5-6893-4ff5-9ea7-5e25b0efbcff",
   "metadata": {},
   "source": [
    "### Seeing how confident is with the first prediction which should be \"A\""
   ]
  },
  {
   "cell_type": "code",
   "execution_count": 13,
   "id": "45db9a4c-eadf-4dc0-b8ff-c8c8e86d3b7c",
   "metadata": {
    "tags": []
   },
   "outputs": [
    {
     "name": "stdout",
     "output_type": "stream",
     "text": [
      "relative confidence in class A is: 0.08726880828196616\n"
     ]
    }
   ],
   "source": [
    "root_test = \"asl_alphabet_test\" # main testing folder\n",
    "img = cv2.imread(root_test + \"\\\\A_test.jpg\")\n",
    "img = img/255 # normalise the data\n",
    "proba = final_model.predict_proba([img.reshape(120000)])\n",
    "print(f\"relative confidence in class A is: {proba[0][0]/np.sum(proba[0])}\")"
   ]
  },
  {
   "cell_type": "markdown",
   "id": "8715d8df-0936-4455-a400-070b4e1db226",
   "metadata": {},
   "source": [
    "### Now checking accuracy on the relatively small test data"
   ]
  },
  {
   "cell_type": "code",
   "execution_count": 14,
   "id": "ce635022-072a-4a92-88fb-f387a8d24a0c",
   "metadata": {},
   "outputs": [
    {
     "name": "stdout",
     "output_type": "stream",
     "text": [
      "28\n"
     ]
    }
   ],
   "source": [
    "root_test = \"asl_alphabet_test\" # main testing folder\n",
    "\n",
    "image_test_df = []\n",
    "for x_i in os.listdir(root_test):\n",
    "    if '.jpg' not in x_i: continue # only select the image files\n",
    "    img = cv2.imread(root_test + \"\\\\\" + x_i) # load each image as (200,200,3) cube\n",
    "    img = img.reshape(120000)\n",
    "    img = img/255 # normalise the data\n",
    "    image_test_df.append(img)\n",
    "    \n",
    "X_test = np.array(image_test_df)\n",
    "n_test, d = X_test.shape\n",
    "print(n_test)"
   ]
  },
  {
   "cell_type": "code",
   "execution_count": 15,
   "id": "c640f3de-69ab-43f2-ad63-e634ea85c500",
   "metadata": {
    "tags": []
   },
   "outputs": [
    {
     "name": "stderr",
     "output_type": "stream",
     "text": [
      "C:\\ProgramData\\anaconda3\\Lib\\site-packages\\sklearn\\metrics\\_classification.py:1469: UndefinedMetricWarning: Precision is ill-defined and being set to 0.0 in labels with no predicted samples. Use `zero_division` parameter to control this behavior.\n",
      "  _warn_prf(average, modifier, msg_start, len(result))\n",
      "C:\\ProgramData\\anaconda3\\Lib\\site-packages\\sklearn\\metrics\\_classification.py:1469: UndefinedMetricWarning: Recall is ill-defined and being set to 0.0 in labels with no true samples. Use `zero_division` parameter to control this behavior.\n",
      "  _warn_prf(average, modifier, msg_start, len(result))\n"
     ]
    },
    {
     "data": {
      "text/html": [
       "<div>\n",
       "<style scoped>\n",
       "    .dataframe tbody tr th:only-of-type {\n",
       "        vertical-align: middle;\n",
       "    }\n",
       "\n",
       "    .dataframe tbody tr th {\n",
       "        vertical-align: top;\n",
       "    }\n",
       "\n",
       "    .dataframe thead th {\n",
       "        text-align: right;\n",
       "    }\n",
       "</style>\n",
       "<table border=\"1\" class=\"dataframe\">\n",
       "  <thead>\n",
       "    <tr style=\"text-align: right;\">\n",
       "      <th></th>\n",
       "      <th>calculation</th>\n",
       "    </tr>\n",
       "  </thead>\n",
       "  <tbody>\n",
       "    <tr>\n",
       "      <th>accuracy</th>\n",
       "      <td>0.142857</td>\n",
       "    </tr>\n",
       "    <tr>\n",
       "      <th>error</th>\n",
       "      <td>0.857143</td>\n",
       "    </tr>\n",
       "    <tr>\n",
       "      <th>precision</th>\n",
       "      <td>0.089286</td>\n",
       "    </tr>\n",
       "    <tr>\n",
       "      <th>recall</th>\n",
       "      <td>0.142857</td>\n",
       "    </tr>\n",
       "    <tr>\n",
       "      <th>f1 score</th>\n",
       "      <td>0.107143</td>\n",
       "    </tr>\n",
       "  </tbody>\n",
       "</table>\n",
       "</div>"
      ],
      "text/plain": [
       "           calculation\n",
       "accuracy      0.142857\n",
       "error         0.857143\n",
       "precision     0.089286\n",
       "recall        0.142857\n",
       "f1 score      0.107143"
      ]
     },
     "execution_count": 15,
     "metadata": {},
     "output_type": "execute_result"
    }
   ],
   "source": [
    "y_test = [i for i in range(0,28)]\n",
    "eval_ = {}\n",
    "\n",
    "eval_[\"accuracy\"] = accuracy_score(y_test, final_model.predict(X_test))\n",
    "eval_[\"error\"] = 1 - eval_[\"accuracy\"]\n",
    "eval_[\"precision\"] = precision_score(y_test, final_model.predict(X_test), average = \"weighted\") # weighted avg for multiclass\n",
    "eval_[\"recall\"] = recall_score(y_test, final_model.predict(X_test), average = \"weighted\") # weighted avg for multiclass\n",
    "eval_[\"f1 score\"] = f1_score(y_test, final_model.predict(X_test), average = \"weighted\") # weighted avg for multiclass\n",
    "\n",
    "eval_df = pd.DataFrame.from_dict(eval_, orient = \"index\", columns = [\"calculation\"])\n",
    "eval_df"
   ]
  },
  {
   "cell_type": "markdown",
   "id": "476be6bc-7aa9-425f-9aa5-76dcd04b3433",
   "metadata": {},
   "source": [
    "# Testing loading and deploying to be in use for the project"
   ]
  },
  {
   "cell_type": "code",
   "execution_count": 16,
   "id": "e7c3b6e9-8830-4e2b-b572-f202fb0354e8",
   "metadata": {
    "tags": []
   },
   "outputs": [
    {
     "data": {
      "text/plain": [
       "['rf_model.pkl']"
      ]
     },
     "execution_count": 16,
     "metadata": {},
     "output_type": "execute_result"
    }
   ],
   "source": [
    "import joblib\n",
    "joblib.dump(final_model, 'rf_model.pkl')"
   ]
  },
  {
   "cell_type": "code",
   "execution_count": 17,
   "id": "bb6bcf0d-52be-4345-a5f9-8e4b76c9a607",
   "metadata": {
    "tags": []
   },
   "outputs": [
    {
     "data": {
      "text/html": [
       "<style>#sk-container-id-2 {color: black;}#sk-container-id-2 pre{padding: 0;}#sk-container-id-2 div.sk-toggleable {background-color: white;}#sk-container-id-2 label.sk-toggleable__label {cursor: pointer;display: block;width: 100%;margin-bottom: 0;padding: 0.3em;box-sizing: border-box;text-align: center;}#sk-container-id-2 label.sk-toggleable__label-arrow:before {content: \"▸\";float: left;margin-right: 0.25em;color: #696969;}#sk-container-id-2 label.sk-toggleable__label-arrow:hover:before {color: black;}#sk-container-id-2 div.sk-estimator:hover label.sk-toggleable__label-arrow:before {color: black;}#sk-container-id-2 div.sk-toggleable__content {max-height: 0;max-width: 0;overflow: hidden;text-align: left;background-color: #f0f8ff;}#sk-container-id-2 div.sk-toggleable__content pre {margin: 0.2em;color: black;border-radius: 0.25em;background-color: #f0f8ff;}#sk-container-id-2 input.sk-toggleable__control:checked~div.sk-toggleable__content {max-height: 200px;max-width: 100%;overflow: auto;}#sk-container-id-2 input.sk-toggleable__control:checked~label.sk-toggleable__label-arrow:before {content: \"▾\";}#sk-container-id-2 div.sk-estimator input.sk-toggleable__control:checked~label.sk-toggleable__label {background-color: #d4ebff;}#sk-container-id-2 div.sk-label input.sk-toggleable__control:checked~label.sk-toggleable__label {background-color: #d4ebff;}#sk-container-id-2 input.sk-hidden--visually {border: 0;clip: rect(1px 1px 1px 1px);clip: rect(1px, 1px, 1px, 1px);height: 1px;margin: -1px;overflow: hidden;padding: 0;position: absolute;width: 1px;}#sk-container-id-2 div.sk-estimator {font-family: monospace;background-color: #f0f8ff;border: 1px dotted black;border-radius: 0.25em;box-sizing: border-box;margin-bottom: 0.5em;}#sk-container-id-2 div.sk-estimator:hover {background-color: #d4ebff;}#sk-container-id-2 div.sk-parallel-item::after {content: \"\";width: 100%;border-bottom: 1px solid gray;flex-grow: 1;}#sk-container-id-2 div.sk-label:hover label.sk-toggleable__label {background-color: #d4ebff;}#sk-container-id-2 div.sk-serial::before {content: \"\";position: absolute;border-left: 1px solid gray;box-sizing: border-box;top: 0;bottom: 0;left: 50%;z-index: 0;}#sk-container-id-2 div.sk-serial {display: flex;flex-direction: column;align-items: center;background-color: white;padding-right: 0.2em;padding-left: 0.2em;position: relative;}#sk-container-id-2 div.sk-item {position: relative;z-index: 1;}#sk-container-id-2 div.sk-parallel {display: flex;align-items: stretch;justify-content: center;background-color: white;position: relative;}#sk-container-id-2 div.sk-item::before, #sk-container-id-2 div.sk-parallel-item::before {content: \"\";position: absolute;border-left: 1px solid gray;box-sizing: border-box;top: 0;bottom: 0;left: 50%;z-index: -1;}#sk-container-id-2 div.sk-parallel-item {display: flex;flex-direction: column;z-index: 1;position: relative;background-color: white;}#sk-container-id-2 div.sk-parallel-item:first-child::after {align-self: flex-end;width: 50%;}#sk-container-id-2 div.sk-parallel-item:last-child::after {align-self: flex-start;width: 50%;}#sk-container-id-2 div.sk-parallel-item:only-child::after {width: 0;}#sk-container-id-2 div.sk-dashed-wrapped {border: 1px dashed gray;margin: 0 0.4em 0.5em 0.4em;box-sizing: border-box;padding-bottom: 0.4em;background-color: white;}#sk-container-id-2 div.sk-label label {font-family: monospace;font-weight: bold;display: inline-block;line-height: 1.2em;}#sk-container-id-2 div.sk-label-container {text-align: center;}#sk-container-id-2 div.sk-container {/* jupyter's `normalize.less` sets `[hidden] { display: none; }` but bootstrap.min.css set `[hidden] { display: none !important; }` so we also need the `!important` here to be able to override the default hidden behavior on the sphinx rendered scikit-learn.org. See: https://github.com/scikit-learn/scikit-learn/issues/21755 */display: inline-block !important;position: relative;}#sk-container-id-2 div.sk-text-repr-fallback {display: none;}</style><div id=\"sk-container-id-2\" class=\"sk-top-container\"><div class=\"sk-text-repr-fallback\"><pre>RandomForestClassifier(max_depth=20)</pre><b>In a Jupyter environment, please rerun this cell to show the HTML representation or trust the notebook. <br />On GitHub, the HTML representation is unable to render, please try loading this page with nbviewer.org.</b></div><div class=\"sk-container\" hidden><div class=\"sk-item\"><div class=\"sk-estimator sk-toggleable\"><input class=\"sk-toggleable__control sk-hidden--visually\" id=\"sk-estimator-id-2\" type=\"checkbox\" checked><label for=\"sk-estimator-id-2\" class=\"sk-toggleable__label sk-toggleable__label-arrow\">RandomForestClassifier</label><div class=\"sk-toggleable__content\"><pre>RandomForestClassifier(max_depth=20)</pre></div></div></div></div></div>"
      ],
      "text/plain": [
       "RandomForestClassifier(max_depth=20)"
      ]
     },
     "execution_count": 17,
     "metadata": {},
     "output_type": "execute_result"
    }
   ],
   "source": [
    "rf_model = joblib.load('rf_model.pkl')\n",
    "rf_model"
   ]
  },
  {
   "cell_type": "code",
   "execution_count": null,
   "id": "fa1cc6a9-dc51-413c-8b9e-c028813afe0b",
   "metadata": {},
   "outputs": [],
   "source": []
  }
 ],
 "metadata": {
  "kernelspec": {
   "display_name": "Python 3 (ipykernel)",
   "language": "python",
   "name": "python3"
  },
  "language_info": {
   "codemirror_mode": {
    "name": "ipython",
    "version": 3
   },
   "file_extension": ".py",
   "mimetype": "text/x-python",
   "name": "python",
   "nbconvert_exporter": "python",
   "pygments_lexer": "ipython3",
   "version": "3.11.5"
  }
 },
 "nbformat": 4,
 "nbformat_minor": 5
}
